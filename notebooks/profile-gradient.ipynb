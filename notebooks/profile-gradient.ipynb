{
 "cells": [
  {
   "cell_type": "code",
   "execution_count": null,
   "metadata": {
    "gradient": {
     "editing": false,
     "id": "6eb74d5f-e267-443f-bf56-4ce8f3213550",
     "kernelId": "a282933b-88e4-4695-b462-59486bced6ba",
     "source_hidden": false
    }
   },
   "outputs": [],
   "source": [
    "!git clone https://github.com/martinsbruveris/tensorflow-image-models.git"
   ]
  },
  {
   "cell_type": "code",
   "execution_count": null,
   "metadata": {},
   "outputs": [],
   "source": [
    "%cd ./tensorflow-image-models"
   ]
  },
  {
   "cell_type": "code",
   "execution_count": null,
   "metadata": {
    "gradient": {
     "editing": false,
     "id": "435aed7f-3a83-406d-ad42-3945fc3c413d",
     "kernelId": "a282933b-88e4-4695-b462-59486bced6ba",
     "source_hidden": false
    }
   },
   "outputs": [],
   "source": [
    "!git pull"
   ]
  },
  {
   "cell_type": "code",
   "execution_count": null,
   "metadata": {
    "gradient": {
     "editing": false,
     "execution_count": 3,
     "id": "ee442f85-1fd3-45a8-a379-f405151ef323",
     "kernelId": "a282933b-88e4-4695-b462-59486bced6ba",
     "source_hidden": false
    }
   },
   "outputs": [],
   "source": [
    "!nvidia-smi"
   ]
  },
  {
   "cell_type": "code",
   "execution_count": null,
   "metadata": {
    "gradient": {
     "editing": false,
     "execution_count": 5,
     "id": "8c129349-3067-46df-be89-0b4fe0920a9d",
     "kernelId": "a282933b-88e4-4695-b462-59486bced6ba",
     "source_hidden": false
    }
   },
   "outputs": [],
   "source": [
    "!pip install pandas"
   ]
  },
  {
   "cell_type": "code",
   "execution_count": null,
   "metadata": {
    "gradient": {
     "editing": false,
     "id": "2cbdcced-4bc7-4c31-9b80-b575376d958a",
     "kernelId": "a282933b-88e4-4695-b462-59486bced6ba",
     "source_hidden": false
    },
    "scrolled": true
   },
   "outputs": [],
   "source": [
    "!PYTHONPATH=. python scripts/profile_gpu.py \\\n",
    "  --results-file results/results_m4000.csv --module resnet"
   ]
  },
  {
   "cell_type": "code",
   "execution_count": 3,
   "metadata": {},
   "outputs": [],
   "source": [
    "!cp ./profile-gradient.ipynb tensorflow-image-models/notebooks/"
   ]
  },
  {
   "cell_type": "code",
   "execution_count": 2,
   "metadata": {},
   "outputs": [
    {
     "name": "stdout",
     "output_type": "stream",
     "text": [
      "profile-gradient.ipynb\ttensorflow-image-models\r\n"
     ]
    }
   ],
   "source": [
    "%"
   ]
  },
  {
   "cell_type": "code",
   "execution_count": null,
   "metadata": {},
   "outputs": [],
   "source": []
  }
 ],
 "metadata": {
  "accelerator": "GPU",
  "colab": {
   "collapsed_sections": [],
   "name": "advanced.ipynb",
   "toc_visible": true
  },
  "kernelspec": {
   "display_name": "Python 3 (ipykernel)",
   "language": "python",
   "name": "python3"
  },
  "language_info": {
   "codemirror_mode": {
    "name": "ipython",
    "version": 3
   },
   "file_extension": ".py",
   "mimetype": "text/x-python",
   "name": "python",
   "nbconvert_exporter": "python",
   "pygments_lexer": "ipython3",
   "version": "3.8.10"
  }
 },
 "nbformat": 4,
 "nbformat_minor": 1
}
